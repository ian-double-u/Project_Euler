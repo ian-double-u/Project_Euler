{
 "cells": [
  {
   "cell_type": "code",
   "execution_count": 2,
   "metadata": {},
   "outputs": [
    {
     "name": "stdout",
     "output_type": "stream",
     "text": [
      "Text: \n",
      "An extract taken from the introduction of one of Euler's most celebrated papers, \"De summis serierum reciprocarum\" [On the sums of series of reciprocals]: I have recently found, quite unexpectedly, an elegant expression for the entire sum of this series 1 + 1/4 + 1/9 + 1/16 + etc., which depends on the quadrature of the circle, so that if the true sum of this series is obtained, from it at once the quadrature of the circle follows. Namely, I have found that the sum of this series is a sixth part of the square of the perimeter of the circle whose diameter is 1; or by putting the sum of this series equal to s, it has the ratio sqrt(6) multiplied by s to 1 of the perimeter to the diameter. I will soon show that the sum of this series to be approximately 1.644934066842264364; and from multiplying this number by six, and then taking the square root, the number 3.141592653589793238 is indeed produced, which expresses the perimeter of a circle whose diameter is 1. Following again the same steps by which I had arrived at this sum, I have discovered that the sum of the series 1 + 1/16 + 1/81 + 1/256 + 1/625 + etc. also depends on the quadrature of the circle. Namely, the sum of this multiplied by 90 gives the biquadrate (fourth power) of the circumference of the perimeter of a circle whose diameter is 1. And by similar reasoning I have likewise been able to determine the sums of the subsequent series in which the exponents are even numbers.\n",
      "\n",
      "Ans = 129448\n"
     ]
    }
   ],
   "source": [
    "cipher_file = open('p059_cipher.txt', 'r')\n",
    "cipher_text = cipher_file.read()\n",
    "char_list = cipher_text.split(',')\n",
    "\n",
    "def XOR(chars,key): # key = 'exp' aka [101,120,112]\n",
    "    result = []\n",
    "    for i in range(0,int(len(chars)/len(key))*len(key),len(key)):\n",
    "        for j in range(len(key)):\n",
    "            result.append(chr(int(chars[i+j]) ^ ord(key[j])))\n",
    "            \n",
    "    # extra\n",
    "    for i in range(len(chars)%len(key)):\n",
    "        result.append(chr(int(chars[-(i+1)]) ^ ord(key[-(i+1)])))\n",
    "    \n",
    "    return result\n",
    "\n",
    "print(f'Text: \\n{\"\".join(XOR(char_list,\"exp\"))}')\n",
    "print()\n",
    "print(f'Ans = {sum([ord(i) for i in XOR(char_list,\"exp\")])}')"
   ]
  },
  {
   "cell_type": "code",
   "execution_count": null,
   "metadata": {},
   "outputs": [],
   "source": []
  }
 ],
 "metadata": {
  "kernelspec": {
   "display_name": "Python 3",
   "language": "python",
   "name": "python3"
  },
  "language_info": {
   "codemirror_mode": {
    "name": "ipython",
    "version": 3
   },
   "file_extension": ".py",
   "mimetype": "text/x-python",
   "name": "python",
   "nbconvert_exporter": "python",
   "pygments_lexer": "ipython3",
   "version": "3.8.5"
  }
 },
 "nbformat": 4,
 "nbformat_minor": 4
}
